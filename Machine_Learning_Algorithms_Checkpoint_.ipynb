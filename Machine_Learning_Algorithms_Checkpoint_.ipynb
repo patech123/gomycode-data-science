{
  "nbformat": 4,
  "nbformat_minor": 0,
  "metadata": {
    "colab": {
      "provenance": [],
      "authorship_tag": "ABX9TyPTmqBYga8quw918XFAFgMC",
      "include_colab_link": true
    },
    "kernelspec": {
      "name": "python3",
      "display_name": "Python 3"
    },
    "language_info": {
      "name": "python"
    }
  },
  "cells": [
    {
      "cell_type": "markdown",
      "metadata": {
        "id": "view-in-github",
        "colab_type": "text"
      },
      "source": [
        "<a href=\"https://colab.research.google.com/github/patech123/gomycode-data-science/blob/main/Machine_Learning_Algorithms_Checkpoint_.ipynb\" target=\"_parent\"><img src=\"https://colab.research.google.com/assets/colab-badge.svg\" alt=\"Open In Colab\"/></a>"
      ]
    },
    {
      "cell_type": "markdown",
      "source": [
        "What You're Aiming For\n",
        "\n",
        "In this checkpoint, we are going to work on the 'Microsoft Malware' dataset that was provided by Kaggle as part of the Microsoft Malware Prediction competition. This checkpoint will cover all the major concepts of supervised and unsupervised machine learning methods.\n",
        "\n",
        "Dataset description : This dataset was derived from the original copy and simplified for learning purposes. It contains a set of machines, which run Microsoft Windows OS. The goal of this exercise is to predict a Windows machine’s probability of getting infected by various families of malware, based on different properties of that machine.\n",
        "\n",
        "➡️ Dataset link\n",
        "\n",
        "https://i.imgur.com/hv2Ynyn.jpg\n",
        "\n",
        "➡️ Columns explanation\n",
        "\n",
        "\n",
        "Instructions\n",
        "\n",
        "Part1: supervised learning\n",
        "\n",
        "1. Import you data and perform basic data exploration phase\n",
        "2. Display general information about the dataset\n",
        "Create a pandas profiling reports to gain insights into the dataset\n",
        "Handle Missing and corrupted values\n",
        "Remove duplicates, if they exist\n",
        "Handle outliers, if they exist\n",
        "Encode categorical features\n",
        "3. Prepare your dataset for the modelling phase\n",
        "4. Apply Decision tree, and plot its ROC curve\n",
        "5. Try to improve your model performance by changing the model hyperparameters\n",
        "\n",
        " Part2: unsupervised learning\n",
        "\n",
        "1. Drop out the target variable\n",
        "2. Apply K means clustering and plot the clusters\n",
        "3. Find the optimal K parameter\n",
        "4. Interpret the results"
      ],
      "metadata": {
        "id": "LBzdkswEYpvh"
      }
    },
    {
      "cell_type": "code",
      "execution_count": null,
      "metadata": {
        "id": "hjDdZNwpYddF"
      },
      "outputs": [],
      "source": []
    }
  ]
}