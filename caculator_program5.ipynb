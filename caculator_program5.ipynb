{
  "nbformat": 4,
  "nbformat_minor": 0,
  "metadata": {
    "colab": {
      "provenance": [],
      "authorship_tag": "ABX9TyO6Qp27p+hZ8JsqBhXOnl2f",
      "include_colab_link": true
    },
    "kernelspec": {
      "name": "python3",
      "display_name": "Python 3"
    },
    "language_info": {
      "name": "python"
    }
  },
  "cells": [
    {
      "cell_type": "markdown",
      "metadata": {
        "id": "view-in-github",
        "colab_type": "text"
      },
      "source": [
        "<a href=\"https://colab.research.google.com/github/patech123/gomycode-data-science/blob/main/caculator_program5.ipynb\" target=\"_parent\"><img src=\"https://colab.research.google.com/assets/colab-badge.svg\" alt=\"Open In Colab\"/></a>"
      ]
    },
    {
      "cell_type": "code",
      "execution_count": 1,
      "metadata": {
        "colab": {
          "base_uri": "https://localhost:8080/",
          "height": 141
        },
        "id": "6zKvQ5Jrohkm",
        "outputId": "d66598c8-80ca-418c-e94b-eea4e7f50553"
      },
      "outputs": [
        {
          "output_type": "error",
          "ename": "SyntaxError",
          "evalue": "unterminated string literal (detected at line 78) (<ipython-input-1-2bc48a4a987a>, line 78)",
          "traceback": [
            "\u001b[0;36m  File \u001b[0;32m\"<ipython-input-1-2bc48a4a987a>\"\u001b[0;36m, line \u001b[0;32m78\u001b[0m\n\u001b[0;31m    num2 = float(input(\"Enter the\u001b[0m\n\u001b[0m                       ^\u001b[0m\n\u001b[0;31mSyntaxError\u001b[0m\u001b[0;31m:\u001b[0m unterminated string literal (detected at line 78)\n"
          ]
        }
      ],
      "source": [
        "import math\n",
        "\n",
        "class Calculator:\n",
        "    def __init__(self):\n",
        "        # Initialize the dictionary with basic mathematical operations\n",
        "        self.operations = {\n",
        "            '+': self.add,\n",
        "            '-': self.subtract,\n",
        "            '*': self.multiply,\n",
        "            '/': self.divide,\n",
        "        }\n",
        "\n",
        "    def add_operation(self, symbol, function):\n",
        "        # Add a new operation and its corresponding function to the dictionary\n",
        "        self.operations[symbol] = function\n",
        "\n",
        "    def calculate(self, num1, symbol, num2):\n",
        "        # Check if the operation symbol is valid\n",
        "        if symbol not in self.operations:\n",
        "            print(\"Error: Invalid operation symbol.\")\n",
        "            raise ValueError(\"Invalid operation symbol\")\n",
        "\n",
        "        # Check if the input values are numbers\n",
        "        if not isinstance(num1, (int, float)) or not isinstance(num2, (int, float)):\n",
        "            print(\"Error: Input values must be numbers.\")\n",
        "            raise ValueError(\"Input values must be numbers\")\n",
        "\n",
        "        # Perform the calculation using the corresponding function\n",
        "        operation_function = self.operations[symbol]\n",
        "        result = operation_function(num1, num2)\n",
        "        return result\n",
        "\n",
        "    # Basic mathematical operations\n",
        "    def add(self, x, y):\n",
        "        return x + y\n",
        "\n",
        "    def subtract(self, x, y):\n",
        "        return x - y\n",
        "\n",
        "    def multiply(self, x, y):\n",
        "        return x * y\n",
        "\n",
        "    def divide(self, x, y):\n",
        "        # Check for division by zero\n",
        "        if y == 0:\n",
        "            print(\"Error: Cannot divide by zero.\")\n",
        "            raise ValueError(\"Cannot divide by zero\")\n",
        "        return x / y\n",
        "\n",
        "# Advanced mathematical operations\n",
        "def exponentiation(x, y):\n",
        "    return x ** y\n",
        "\n",
        "def square_root(x, y):\n",
        "    return math.sqrt(x)\n",
        "\n",
        "def logarithm(x, y):\n",
        "    # Check for logarithm of non-positive number\n",
        "    if x <= 0:\n",
        "        print(\"Error: Logarithm of a non-positive number.\")\n",
        "        raise ValueError(\"Logarithm of a non-positive number\")\n",
        "    return math.log(x, y)\n",
        "\n",
        "# Create an instance of the Calculator class\n",
        "calculator = Calculator()\n",
        "\n",
        "# Add advanced mathematical operations to the calculator's dictionary\n",
        "calculator.add_operation('^', exponentiation)\n",
        "calculator.add_operation('sqrt', square_root)\n",
        "calculator.add_operation('log', logarithm)\n",
        "\n",
        "# Main program with a while loop for user input\n",
        "while True:\n",
        "    try:\n",
        "        # Get input from the user\n",
        "        num1 = float(input(\"Enter the first number: \"))\n",
        "        symbol = input(\"Enter the operation symbol (+, -, *, /, ^, sqrt, log): \")\n",
        "        num2 = float(input(\"Enter the\n"
      ]
    }
  ]
}