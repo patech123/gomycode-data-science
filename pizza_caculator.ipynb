{
  "nbformat": 4,
  "nbformat_minor": 0,
  "metadata": {
    "colab": {
      "provenance": [],
      "authorship_tag": "ABX9TyNFsSJiTzfZc7DeUwL3g9fx",
      "include_colab_link": true
    },
    "kernelspec": {
      "name": "python3",
      "display_name": "Python 3"
    },
    "language_info": {
      "name": "python"
    }
  },
  "cells": [
    {
      "cell_type": "markdown",
      "metadata": {
        "id": "view-in-github",
        "colab_type": "text"
      },
      "source": [
        "<a href=\"https://colab.research.google.com/github/patech123/gomycode-data-science/blob/main/pizza_caculator.ipynb\" target=\"_parent\"><img src=\"https://colab.research.google.com/assets/colab-badge.svg\" alt=\"Open In Colab\"/></a>"
      ]
    },
    {
      "cell_type": "code",
      "execution_count": 2,
      "metadata": {
        "colab": {
          "base_uri": "https://localhost:8080/",
          "height": 332
        },
        "id": "qB8NofNsdP2W",
        "outputId": "04b7adf1-5e41-473d-9ceb-fa78644edc7a"
      },
      "outputs": [
        {
          "output_type": "stream",
          "name": "stdout",
          "text": [
            "Welcome to Python Pizza Deliveries\n",
            "What size pizza do you want? (S, M, L) y\n",
            "Do you want to add pepperoni (Y or N) y\n",
            "Do you want extra cheese? (Y or N) y\n",
            "Invalid pizza size. Please choose S, M, or L.\n"
          ]
        },
        {
          "output_type": "error",
          "ename": "NameError",
          "evalue": "ignored",
          "traceback": [
            "\u001b[0;31m---------------------------------------------------------------------------\u001b[0m",
            "\u001b[0;31mNameError\u001b[0m                                 Traceback (most recent call last)",
            "\u001b[0;32m<ipython-input-2-88dd8853f95d>\u001b[0m in \u001b[0;36m<cell line: 42>\u001b[0;34m()\u001b[0m\n\u001b[1;32m     41\u001b[0m \u001b[0;31m# Add extra cheese cost if selected\u001b[0m\u001b[0;34m\u001b[0m\u001b[0;34m\u001b[0m\u001b[0m\n\u001b[1;32m     42\u001b[0m \u001b[0;32mif\u001b[0m \u001b[0mextra_cheese\u001b[0m\u001b[0;34m.\u001b[0m\u001b[0mupper\u001b[0m\u001b[0;34m(\u001b[0m\u001b[0;34m)\u001b[0m \u001b[0;34m==\u001b[0m \u001b[0;34m\"Y\"\u001b[0m\u001b[0;34m:\u001b[0m\u001b[0;34m\u001b[0m\u001b[0;34m\u001b[0m\u001b[0m\n\u001b[0;32m---> 43\u001b[0;31m     \u001b[0mfinal_bill\u001b[0m \u001b[0;34m+=\u001b[0m \u001b[0mextra_cheese_price\u001b[0m\u001b[0;34m\u001b[0m\u001b[0;34m\u001b[0m\u001b[0m\n\u001b[0m\u001b[1;32m     44\u001b[0m \u001b[0;34m\u001b[0m\u001b[0m\n\u001b[1;32m     45\u001b[0m \u001b[0;31m# Display the final bill\u001b[0m\u001b[0;34m\u001b[0m\u001b[0;34m\u001b[0m\u001b[0m\n",
            "\u001b[0;31mNameError\u001b[0m: name 'final_bill' is not defined"
          ]
        }
      ],
      "source": [
        "# Welcome Message\n",
        "print(\"Welcome to Python Pizza Deliveries\")\n",
        "\n",
        "# Prompt for pizza size\n",
        "size = input(\"What size pizza do you want? (S, M, L) \")\n",
        "\n",
        "# Prompt for pepperoni\n",
        "add_pepperoni = input(\"Do you want to add pepperoni (Y or N) \")\n",
        "\n",
        "# Prompt for extra cheese\n",
        "extra_cheese = input(\"Do you want extra cheese? (Y or N) \")\n",
        "\n",
        "# Define pizza prices\n",
        "small_pizza_price = 15\n",
        "medium_pizza_price = 20\n",
        "large_pizza_price = 25\n",
        "pepperoni_small_price = 2\n",
        "pepperoni_medium_price = 3\n",
        "pepperoni_large_price = 3\n",
        "extra_cheese_price = 1\n",
        "\n",
        "# Calculate the base price based on the pizza size\n",
        "if size.upper() == \"S\":\n",
        "    final_bill = small_pizza_price\n",
        "elif size.upper() == \"M\":\n",
        "    final_bill = medium_pizza_price\n",
        "elif size.upper() == \"L\":\n",
        "    final_bill = large_pizza_price\n",
        "else:\n",
        "    print(\"Invalid pizza size. Please choose S, M, or L.\"):\n",
        "    final_bill= 0\n",
        "# Add pepperoni cost if selected\n",
        "if add_pepperoni.upper() == \"Y\":\n",
        "    if size.upper() == \"S\":\n",
        "        final_bill += pepperoni_small_price\n",
        "    elif size.upper() == \"M\":\n",
        "        final_bill += pepperoni_medium_price\n",
        "    elif size.upper() == \"L\":\n",
        "          final_bill +=pepperoni_large_price\n",
        "\n",
        "# Add extra cheese cost if selected\n",
        "if extra_cheese.upper() == \"Y\":\n",
        "    final_bill += extra_cheese_price\n",
        "# Display the final bill\n",
        "print(f\"Your final bill is: ${final_bill}.\")\n"
      ]
    },
    {
      "cell_type": "code",
      "source": [
        "quit()\n",
        "print(980)"
      ],
      "metadata": {
        "colab": {
          "base_uri": "https://localhost:8080/"
        },
        "id": "D5CcNq2mTfj6",
        "outputId": "15fd1816-c8dc-4259-91e1-9a53bdc51c10"
      },
      "execution_count": 1,
      "outputs": [
        {
          "output_type": "stream",
          "name": "stdout",
          "text": [
            "980\n"
          ]
        }
      ]
    },
    {
      "cell_type": "code",
      "source": [],
      "metadata": {
        "id": "v-jNwMROThCt"
      },
      "execution_count": null,
      "outputs": []
    }
  ]
}