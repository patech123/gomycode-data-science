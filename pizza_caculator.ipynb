{
  "nbformat": 4,
  "nbformat_minor": 0,
  "metadata": {
    "colab": {
      "provenance": [],
      "authorship_tag": "ABX9TyOfT3g5BI76XYSiHVBsI7AS",
      "include_colab_link": true
    },
    "kernelspec": {
      "name": "python3",
      "display_name": "Python 3"
    },
    "language_info": {
      "name": "python"
    }
  },
  "cells": [
    {
      "cell_type": "markdown",
      "metadata": {
        "id": "view-in-github",
        "colab_type": "text"
      },
      "source": [
        "<a href=\"https://colab.research.google.com/github/patech123/gomycode-data-science/blob/main/pizza_caculator.ipynb\" target=\"_parent\"><img src=\"https://colab.research.google.com/assets/colab-badge.svg\" alt=\"Open In Colab\"/></a>"
      ]
    },
    {
      "cell_type": "code",
      "execution_count": 3,
      "metadata": {
        "colab": {
          "base_uri": "https://localhost:8080/"
        },
        "id": "qB8NofNsdP2W",
        "outputId": "568a7c90-42fe-4821-cc9c-615d62209d77"
      },
      "outputs": [
        {
          "output_type": "stream",
          "name": "stdout",
          "text": [
            "Welcome to Python Pizza Deliveries\n",
            "What size pizza do you want? (S, M, L) y\n",
            "Do you want to add pepperoni (Y or N) y\n",
            "Do you want extra cheese? (Y or N) y\n",
            "Invalid pizza size. Please choose S, M, or L.\n",
            "Your final bill is: $1.\n"
          ]
        }
      ],
      "source": [
        "# Welcome Message\n",
        "print(\"Welcome to Python Pizza Deliveries\")\n",
        "\n",
        "# Prompt for pizza size\n",
        "size = input(\"What size pizza do you want? (S, M, L) \")\n",
        "\n",
        "# Prompt for pepperoni\n",
        "add_pepperoni = input(\"Do you want to add pepperoni (Y or N) \")\n",
        "\n",
        "# Prompt for extra cheese\n",
        "extra_cheese = input(\"Do you want extra cheese? (Y or N) \")\n",
        "\n",
        "# Define pizza prices\n",
        "small_pizza_price = 15\n",
        "medium_pizza_price = 20\n",
        "large_pizza_price = 25\n",
        "pepperoni_small_price = 2\n",
        "pepperoni_medium_price = 3\n",
        "pepperoni_large_price = 3\n",
        "extra_cheese_price = 1\n",
        "\n",
        "# Calculate the base price based on the pizza size\n",
        "if size.upper() == \"S\":\n",
        "    final_bill = small_pizza_price\n",
        "elif size.upper() == \"M\":\n",
        "    final_bill = medium_pizza_price\n",
        "elif size.upper() == \"L\":\n",
        "    final_bill = large_pizza_price\n",
        "else:\n",
        "    print(\"Invalid pizza size. Please choose S, M, or L.\")\n",
        "    final_bill= 0\n",
        "# Add pepperoni cost if selected\n",
        "if add_pepperoni.upper() == \"Y\":\n",
        "    if size.upper() == \"S\":\n",
        "        final_bill += pepperoni_small_price\n",
        "    elif size.upper() == \"M\":\n",
        "        final_bill += pepperoni_medium_price\n",
        "    elif size.upper() == \"L\":\n",
        "          final_bill +=pepperoni_large_price\n",
        "\n",
        "# Add extra cheese cost if selected\n",
        "if extra_cheese.upper() == \"Y\":\n",
        "    final_bill += extra_cheese_price\n",
        "# Display the final bill\n",
        "print(f\"Your final bill is: ${final_bill}.\")\n"
      ]
    },
    {
      "cell_type": "code",
      "source": [],
      "metadata": {
        "id": "v-jNwMROThCt"
      },
      "execution_count": null,
      "outputs": []
    }
  ]
}