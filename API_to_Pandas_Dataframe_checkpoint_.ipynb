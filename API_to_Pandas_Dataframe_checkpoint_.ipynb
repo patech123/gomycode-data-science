{
  "nbformat": 4,
  "nbformat_minor": 0,
  "metadata": {
    "colab": {
      "provenance": [],
      "authorship_tag": "ABX9TyPULtTu3iRxAS9D4mn277Zu",
      "include_colab_link": true
    },
    "kernelspec": {
      "name": "python3",
      "display_name": "Python 3"
    },
    "language_info": {
      "name": "python"
    }
  },
  "cells": [
    {
      "cell_type": "markdown",
      "metadata": {
        "id": "view-in-github",
        "colab_type": "text"
      },
      "source": [
        "<a href=\"https://colab.research.google.com/github/patech123/gomycode-data-science/blob/main/API_to_Pandas_Dataframe_checkpoint_.ipynb\" target=\"_parent\"><img src=\"https://colab.research.google.com/assets/colab-badge.svg\" alt=\"Open In Colab\"/></a>"
      ]
    },
    {
      "cell_type": "markdown",
      "source": [
        "What You're Aiming For\n",
        "\n",
        "In this checkpoint, we are going to practice consuming public APIs through the NASA public APIs portal.\n",
        "\n",
        "Portal description : The objective of this portal is to make NASA data, including imagery, eminently accessible to application developers and data professionals. Before starting to use its APIs endpoints, it's mandatory that you generate your API KEY and store it somewhere for later use. The API key acts as the user identifier when requesting the API. To get your KEY, fill in the provided form with your personal information, and then we shall receive an email containing your personal API KEY.\n",
        "\n",
        "➡️ NASA API PORTAL\n",
        "\n",
        "https://i.imgur.com/hisTmpk.png\n",
        "\n",
        "\n",
        "\n",
        "\n",
        "Instructions\n",
        "\n",
        "1. Go to the NASA API portal and generate your API KEY\n",
        "2. Import the requests package and store your API KEY in variable\n",
        "3. Go back to portal website and click on 'browse APIs'\n",
        "4. Click on the first dropdown menu, named 'APOD' and read its documentation\n",
        "5. Follow the provided documentation to ask the API endpoint for the astronomy picture of the day. Get then display the image on your notebook.\n",
        "6. Go through the list of the provided API endpoints once again and select 'Astronomy Picture of the Day' option. Store the results in a pandas dataframe\n",
        "7. Do the necessary data pre-processing tasks on the previous result in order to get a clean dataframe with the following columns :\n",
        "Asteroid ID\n",
        "Asteroid name\n",
        "The Minimal estimated diameter in Kilometre\n",
        "Absolute_magnitude\n",
        "Relative_velocity(km/s)\n",
        "8. Try to export the new dataframe into a CSV file and share it with your colleagues"
      ],
      "metadata": {
        "id": "Ai2pUqrzZaHx"
      }
    },
    {
      "cell_type": "code",
      "source": [],
      "metadata": {
        "id": "IHudBvDWZxFx"
      },
      "execution_count": null,
      "outputs": []
    },
    {
      "cell_type": "code",
      "execution_count": null,
      "metadata": {
        "id": "l0S4ykZORP2t"
      },
      "outputs": [],
      "source": []
    }
  ]
}