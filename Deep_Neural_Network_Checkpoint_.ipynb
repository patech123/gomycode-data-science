{
  "nbformat": 4,
  "nbformat_minor": 0,
  "metadata": {
    "colab": {
      "provenance": [],
      "authorship_tag": "ABX9TyOUCU8bC8GHPLf5lF/hBFwk",
      "include_colab_link": true
    },
    "kernelspec": {
      "name": "python3",
      "display_name": "Python 3"
    },
    "language_info": {
      "name": "python"
    }
  },
  "cells": [
    {
      "cell_type": "markdown",
      "metadata": {
        "id": "view-in-github",
        "colab_type": "text"
      },
      "source": [
        "<a href=\"https://colab.research.google.com/github/patech123/gomycode-data-science/blob/main/Deep_Neural_Network_Checkpoint_.ipynb\" target=\"_parent\"><img src=\"https://colab.research.google.com/assets/colab-badge.svg\" alt=\"Open In Colab\"/></a>"
      ]
    },
    {
      "cell_type": "markdown",
      "source": [
        "What You're Aiming For\n",
        "\n",
        "This dataset contains banking marketing campaign data and we can use it to optimize marketing campaigns to attract more customers to term deposit subscription.\n",
        "\n",
        "What is a Term Deposit?\n",
        "\n",
        "A Term deposit is a deposit that a bank or a financial institution offers with a fixed rate (often better than just opening deposit account) in which your money will be returned back at a specific maturity time.\n",
        "\n",
        "\n",
        "Instructions\n",
        "\n",
        "In this assignment you will have to take the following steps:\n",
        "\n",
        "Import your dataset and perform initial analysis and visualization\n",
        "Clean the data\n",
        "Build a  deep learning network to predict the marketing campaign outcome (\"deposit\" either Yes or No)\n",
        "You have to submit a jupyter notebook file.\n"
      ],
      "metadata": {
        "id": "hTrk90kdz9CV"
      }
    },
    {
      "cell_type": "code",
      "source": [],
      "metadata": {
        "id": "bxwoBafY0P4C"
      },
      "execution_count": null,
      "outputs": []
    }
  ]
}