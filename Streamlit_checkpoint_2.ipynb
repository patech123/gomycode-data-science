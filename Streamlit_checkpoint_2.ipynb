{
  "nbformat": 4,
  "nbformat_minor": 0,
  "metadata": {
    "colab": {
      "provenance": [],
      "authorship_tag": "ABX9TyOxqggx3CYruH0SIYuV1vj+",
      "include_colab_link": true
    },
    "kernelspec": {
      "name": "python3",
      "display_name": "Python 3"
    },
    "language_info": {
      "name": "python"
    }
  },
  "cells": [
    {
      "cell_type": "markdown",
      "metadata": {
        "id": "view-in-github",
        "colab_type": "text"
      },
      "source": [
        "<a href=\"https://colab.research.google.com/github/patech123/gomycode-data-science/blob/main/Streamlit_checkpoint_2.ipynb\" target=\"_parent\"><img src=\"https://colab.research.google.com/assets/colab-badge.svg\" alt=\"Open In Colab\"/></a>"
      ]
    },
    {
      "cell_type": "markdown",
      "source": [
        "What You're Aiming For\n",
        "\n",
        "In this checkpoint, we are going to work on the 'Financial Inclusion in Africa' dataset that was provided as part of the Financial Inclusion in Africa hosted by the Zindi platform.\n",
        "\n",
        "Dataset description: The dataset contains demographic information and what financial services are used by approximately 33,600 individuals across East Africa. The ML model role is to predict which individuals are most likely to have or use a bank account.\n",
        "\n",
        "The term financial inclusion means:  individuals and businesses have access to useful and affordable financial products and services that meet their needs – transactions, payments, savings, credit and insurance – delivered in a responsible and sustainable way.\n",
        "\n",
        "➡️ Dataset link\n",
        "\n",
        "https://i.imgur.com/UNUZ4zR.jpg\n",
        "\n",
        "➡️Columns explanation\n",
        "\n",
        "\n",
        "Instructions\n",
        "\n",
        "Install the necessary packages\n",
        "Import you data and perform basic data exploration phase\n",
        "Display general information about the dataset\n",
        "Create a pandas profiling reports to gain insights into the dataset\n",
        "Handle Missing and corrupted values\n",
        "Remove duplicates, if they exist\n",
        "Handle outliers, if they exist\n",
        "Encode categorical features\n",
        "Based on the previous data exploration train and test a machine learning classifier\n",
        "Create a streamlit application (locally) and add input fields for your features and a validation button at the end of the form\n",
        "Import your ML model into the streamlit application and start making predictions given the provided features values\n",
        "Deploy your application on Streamlit share:\n",
        "Create a github and a streamlit share accounts\n",
        "Create a new git repo\n",
        "Upload your local code to the newly created git repo\n",
        "log in to your streamlit account an deploy your application from the git repo\n",
        ""
      ],
      "metadata": {
        "id": "bigzEGSVTUay"
      }
    },
    {
      "cell_type": "code",
      "execution_count": null,
      "metadata": {
        "id": "gbxSUpjLTTgi"
      },
      "outputs": [],
      "source": []
    }
  ]
}