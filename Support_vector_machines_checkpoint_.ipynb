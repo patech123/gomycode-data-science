{
  "nbformat": 4,
  "nbformat_minor": 0,
  "metadata": {
    "colab": {
      "provenance": [],
      "authorship_tag": "ABX9TyOrUeZjA0dBBSlzRGpHSfqs",
      "include_colab_link": true
    },
    "kernelspec": {
      "name": "python3",
      "display_name": "Python 3"
    },
    "language_info": {
      "name": "python"
    }
  },
  "cells": [
    {
      "cell_type": "markdown",
      "metadata": {
        "id": "view-in-github",
        "colab_type": "text"
      },
      "source": [
        "<a href=\"https://colab.research.google.com/github/patech123/gomycode-data-science/blob/main/Support_vector_machines_checkpoint_.ipynb\" target=\"_parent\"><img src=\"https://colab.research.google.com/assets/colab-badge.svg\" alt=\"Open In Colab\"/></a>"
      ]
    },
    {
      "cell_type": "markdown",
      "source": [
        "What You're Aiming For\n",
        "\n",
        "In this checkpoint, we are going to work on the 'Electric Vehicle Data' dataset that was provided by Kaggle as part of the Electric Vehicle Price Prediction competition.\n",
        "\n",
        "Dataset description: This dataset contains information on the Battery Electric Vehicles (BEVs) and Plug-in Hybrid Electric Vehicles (PHEVs) that are currently registered with the Washington State Department of Licensing (DOL). This dataset was introduced as part of an official invitation-based competition on Kaggle. Our SVM model should answer the question \"This is my car's model & make, along with a few other parameters, what price can this vehicle be brought or sold?”\n",
        "\n",
        "➡️ Dataset link\n",
        "\n",
        "https://i.imgur.com/IpuCW3s.jpg\n",
        "\n",
        "➡️Columns explanation\n",
        "\n",
        "\n",
        "\n",
        "\n",
        "Instructions\n",
        "\n",
        "1. Import you data and perform basic data exploration phase\n",
        "2. Display general information about the dataset                           \n",
        " Create a pandas profiling reports to gain insights into the dataset\n",
        "Handle Missing and corrupted values\n",
        "Remove duplicates, if they exist\n",
        "Handle outliers, if they exist\n",
        "Encode categorical features\n",
        "3. Select your target variable and the features\n",
        "4. Split your dataset to training and test sets\n",
        "5. Build and train an SVM model on the training set\n",
        "6. Assess your model performance on the test set using relevant evaluation metrics\n",
        "7. Discuss with your cohort alternative ways to improve your model performance"
      ],
      "metadata": {
        "id": "CY08U6JufH-B"
      }
    },
    {
      "cell_type": "code",
      "execution_count": null,
      "metadata": {
        "id": "V_tew7RRe98w"
      },
      "outputs": [],
      "source": []
    }
  ]
}