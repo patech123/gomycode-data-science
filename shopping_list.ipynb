{
  "nbformat": 4,
  "nbformat_minor": 0,
  "metadata": {
    "colab": {
      "provenance": [],
      "authorship_tag": "ABX9TyOytj8KtPKmf7xpk7lTHilu",
      "include_colab_link": true
    },
    "kernelspec": {
      "name": "python3",
      "display_name": "Python 3"
    },
    "language_info": {
      "name": "python"
    }
  },
  "cells": [
    {
      "cell_type": "markdown",
      "metadata": {
        "id": "view-in-github",
        "colab_type": "text"
      },
      "source": [
        "<a href=\"https://colab.research.google.com/github/patech123/gomycode-data-science/blob/main/shopping_list.ipynb\" target=\"_parent\"><img src=\"https://colab.research.google.com/assets/colab-badge.svg\" alt=\"Open In Colab\"/></a>"
      ]
    },
    {
      "cell_type": "markdown",
      "source": [
        "Statement:\n",
        "\n",
        "Create a list to store the shopping items\n",
        "Use a while loop to create a menu of options for the user to add, remove, or view items from the list\n",
        "Use a for loop to iterate through the list of items and display them to the user\n",
        "Use the range() function to limit the number of items that can be added to the list\n",
        "Use the list, tuple, set, and dictionary data structures to store and manipulate the shopping items\n",
        "Instructions:\n",
        "\n",
        "Create a list named 'shopping_list' to store the items.\n",
        "Use a while loop to create a menu of options for the user to add, remove, or view items from the list.\n",
        "Use the input() function to prompt the user to make a selection from the menu.\n",
        "Use an if-elif-else block to determine the user's selection and perform the corresponding action.\n",
        "If the user selects 'add', use the input() function to prompt the user to enter an item to add to the list. Use the range() function to limit the number of items that can be added to the list.\n",
        "If the user selects 'remove', use the input() function to prompt the user to enter an item to remove from the list.\n",
        "If the user selects 'view', use a for loop to iterate through the list of items and display them to the user.\n",
        "Use the list, tuple, set, and dictionary data structures to store and manipulate the shopping items."
      ],
      "metadata": {
        "id": "RnjINEE1ugDy"
      }
    },
    {
      "cell_type": "code",
      "execution_count": 1,
      "metadata": {
        "id": "h6fw_VEq2bt4"
      },
      "outputs": [],
      "source": [
        "# create a list of items\n",
        "shopping_list = [\"milk\",\"bread\",\"egg\",\"meat\"]\n"
      ]
    },
    {
      "source": [
        "# while loop code for shopping list\n",
        "while True:\n",
        "  print(\"Shopping List Menu\")\n",
        "  print(\"1. Add item\")\n",
        "  print(\"2. Remove item\")\n",
        "  print(\"3. View list\")\n",
        "  print(\"4. Exit\")\n",
        "\n",
        "  choice = input(\"Enter your choice: \")\n",
        "\n",
        "  if choice == \"1\":\n",
        "    for i in range(2):\n",
        "      item = input(\"Enter the item to add: \")\n",
        "      shopping_list.append(item)\n",
        "  elif choice == \"2\":\n",
        "    item = input(\"Enter the item to remove: \")\n",
        "    shopping_list.remove(item)\n",
        "  elif choice == \"3\":\n",
        "    for item in shopping_list:\n",
        "      print(item)\n",
        "  elif choice == \"4\":\n",
        "    break\n",
        "  else:\n",
        "    print(\"Invalid choice.\")\n"
      ],
      "cell_type": "code",
      "metadata": {
        "id": "68aWkETF38rR",
        "colab": {
          "base_uri": "https://localhost:8080/"
        },
        "outputId": "f82b501c-2703-4d2c-a155-41c232fa4534"
      },
      "execution_count": 12,
      "outputs": [
        {
          "name": "stdout",
          "output_type": "stream",
          "text": [
            "Shopping List Menu\n",
            "1. Add item\n",
            "2. Remove item\n",
            "3. View list\n",
            "4. Exit\n",
            "Enter your choice: 1\n",
            "Enter the item to add: ginger \n",
            "Enter the item to add: egg\n",
            "Shopping List Menu\n",
            "1. Add item\n",
            "2. Remove item\n",
            "3. View list\n",
            "4. Exit\n",
            "Enter your choice: 2\n",
            "Enter the item to remove: egg\n",
            "Shopping List Menu\n",
            "1. Add item\n",
            "2. Remove item\n",
            "3. View list\n",
            "4. Exit\n",
            "Enter your choice: 3\n",
            "bread ,milk ,meat ,yam\n",
            "ginger \n",
            "Shopping List Menu\n",
            "1. Add item\n",
            "2. Remove item\n",
            "3. View list\n",
            "4. Exit\n",
            "Enter your choice: 4\n"
          ]
        }
      ]
    },
    {
      "source": [
        "# Create a list of items\n",
        "shopping_list = [\"milk\", \"bread\", \"eggs\"]\n",
        "\n",
        "# Create a tuple of items\n",
        "shopping_tuple = (\"milk\", \"bread\", \"eggs\")\n",
        "\n",
        "# Create a set of items\n",
        "shopping_set = {\"milk\", \"bread\", \"eggs\"}\n",
        "\n",
        "# Create a dictionary of items\n",
        "shopping_dict = {\"milk\": 1, \"bread\": 2, \"eggs\": 3}"
      ],
      "cell_type": "code",
      "metadata": {
        "id": "PzQ2s15r55ZX"
      },
      "execution_count": null,
      "outputs": []
    }
  ]
}