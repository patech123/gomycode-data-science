{
  "cells": [
    {
      "cell_type": "markdown",
      "metadata": {
        "id": "view-in-github",
        "colab_type": "text"
      },
      "source": [
        "<a href=\"https://colab.research.google.com/github/patech123/gomycode-data-science/blob/main/calculators.ipynb\" target=\"_parent\"><img src=\"https://colab.research.google.com/assets/colab-badge.svg\" alt=\"Open In Colab\"/></a>"
      ]
    },
    {
      "cell_type": "markdown",
      "source": [
        "Create four basic mathematical functions: 'add', 'subtract', 'multiply', and 'divide' that take in two numbers and return the result of the operation.\n",
        "Create a dictionary 'operations' that assigns the functions to their corresponding operation symbols.\n",
        "Create a function 'calculator' that prompts the user to input the first number.\n",
        "Use a for loop to print the available operation symbols.\n",
        "Create a while loop that will continue to run until the user chooses to end the current calculation.\n",
        "Inside the while loop, prompt the user to select an operation symbol.\n",
        "Prompt the user to input the second number.\n",
        "Use the dictionary to retrieve the function that corresponds to the selected operation symbol and store it in a variable 'calculation_function'\n",
        "Perform the calculation by calling the 'calculation_function' on the two input numbers and store the result in a variable 'answer'.\n",
        "Print the equation and the result of the calculation.\n",
        "Ask the user if they would like to continue using the result as the first number for further calculations.\n",
        "If the user chooses to continue, update the 'num1' variable to the value of 'answer'.\n",
        "If the user chooses to start a new calculation, set the 'should_continue' variable to false and call the 'calculator' function to start a new calculation.\n",
        "Note: Make sure to test the program with different inputs and operations to ensure that it is functioning properly.\n",
        "\n",
        "Evaluation Specifics\n",
        "\n"
      ],
      "metadata": {
        "id": "k9-e0gh4kPiI"
      }
    },
    {
      "cell_type": "code",
      "execution_count": 6,
      "metadata": {
        "colab": {
          "base_uri": "https://localhost:8080/"
        },
        "id": "WGEMVKz1n_Hr",
        "outputId": "e0eef0c5-47fb-411b-9411-12da63cb9694"
      },
      "outputs": [
        {
          "name": "stdout",
          "output_type": "stream",
          "text": [
            "Enter the first number: 8\n",
            "Available operations:\n",
            "+ - * / \n",
            "Choose an operation symbol: \n",
            "Invalid operation symbol. Please try again.\n",
            "Available operations:\n",
            "+ - * / \n",
            "Choose an operation symbol: +\n",
            "Enter the second number: 8\n",
            "8.0 + 8.0 = 16.0\n",
            "Do you want to continue with the result as the first number? (yes/no): yes\n",
            "Available operations:\n",
            "+ - * / \n",
            "Choose an operation symbol: +\n",
            "Enter the second number: 12\n",
            "16.0 + 12.0 = 28.0\n",
            "Do you want to continue with the result as the first number? (yes/no): no\n"
          ]
        }
      ],
      "source": [
        "def add(num1, num2):\n",
        "    return num1 + num2\n",
        "\n",
        "def subtract(num1, num2):\n",
        "    return num1 - num2\n",
        "\n",
        "def multiply(num1, num2):\n",
        "    return num1 * num2\n",
        "\n",
        "def divide(num1, num2):\n",
        "    if num2 != 0:\n",
        "        return num1 / num2\n",
        "    else:\n",
        "        print(\"Error: Cannot divide by zero.\")\n",
        "        return None\n",
        "\n",
        "# Dictionary mapping operation symbols to corresponding functions\n",
        "operations = {\n",
        "    '+': add,\n",
        "    '-': subtract,\n",
        "    '*': multiply,\n",
        "    '/': divide\n",
        "}\n",
        "\n",
        "def calculator():\n",
        "    num1 = float(input(\"Enter the first number: \"))\n",
        "    should_continue = True\n",
        "\n",
        "    while should_continue:\n",
        "        print(\"Available operations:\")\n",
        "        for symbol in operations:\n",
        "            print(symbol, end=' ')\n",
        "        print()\n",
        "\n",
        "        operation_symbol = input(\"Choose an operation symbol: \")\n",
        "        if operation_symbol not in operations:\n",
        "            print(\"Invalid operation symbol. Please try again.\")\n",
        "            continue\n",
        "\n",
        "        num2 = float(input(\"Enter the second number: \"))\n",
        "\n",
        "        calculation_function = operations[operation_symbol]\n",
        "        answer = calculation_function(num1, num2)\n",
        "\n",
        "        if answer is not None:\n",
        "            print(f\"{num1} {operation_symbol} {num2} = {answer}\")\n",
        "\n",
        "            continue_option = input(\"Do you want to continue with the result as the first number? (yes/no): \").lower()\n",
        "            if continue_option == 'yes':\n",
        "                num1 = answer\n",
        "            else:\n",
        "                should_continue = False\n",
        "                #calculator()\n",
        "\n",
        "if __name__ == \"__main__\":\n",
        "    calculator()\n"
      ]
    },
    {
      "cell_type": "code",
      "source": [
        "+\n"
      ],
      "metadata": {
        "id": "OxZCPm-JMddZ"
      },
      "execution_count": null,
      "outputs": []
    }
  ],
  "metadata": {
    "colab": {
      "provenance": [],
      "authorship_tag": "ABX9TyMn/+oD2d8lTsW+NfzKeFik",
      "include_colab_link": true
    },
    "kernelspec": {
      "display_name": "Python 3",
      "name": "python3"
    },
    "language_info": {
      "name": "python"
    }
  },
  "nbformat": 4,
  "nbformat_minor": 0
}