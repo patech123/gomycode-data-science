{
  "cells": [
    {
      "cell_type": "markdown",
      "metadata": {
        "id": "view-in-github",
        "colab_type": "text"
      },
      "source": [
        "<a href=\"https://colab.research.google.com/github/patech123/gomycode-data-science/blob/main/calculators.ipynb\" target=\"_parent\"><img src=\"https://colab.research.google.com/assets/colab-badge.svg\" alt=\"Open In Colab\"/></a>"
      ]
    },
    {
      "cell_type": "code",
      "execution_count": null,
      "metadata": {
        "colab": {
          "background_save": true,
          "base_uri": "https://localhost:8080/"
        },
        "id": "WGEMVKz1n_Hr",
        "outputId": "ba413e74-7a97-46c5-bdfa-e9371790dd5c"
      },
      "outputs": [
        {
          "name": "stdout",
          "output_type": "stream",
          "text": [
            "Available operations:\n",
            "+ - * / \n",
            "15.0 + 20.0 = 35.0\n"
          ]
        }
      ],
      "source": [
        "def add(num1, num2):\n",
        "    return num1 + num2\n",
        "\n",
        "def subtract(num1, num2):\n",
        "    return num1 - num2\n",
        "\n",
        "def multiply(num1, num2):\n",
        "    return num1 * num2\n",
        "\n",
        "def divide(num1, num2):\n",
        "    if num2 != 0:\n",
        "        return num1 / num2\n",
        "    else:\n",
        "        print(\"Error: Cannot divide by zero.\")\n",
        "        return None\n",
        "\n",
        "# Dictionary mapping operation symbols to corresponding functions\n",
        "operations = {\n",
        "    '+': add,\n",
        "    '-': subtract,\n",
        "    '*': multiply,\n",
        "    '/': divide\n",
        "}\n",
        "\n",
        "def calculator():\n",
        "    num1 = float(input(\"Enter the first number: \"))\n",
        "    should_continue = True\n",
        "\n",
        "    while should_continue:\n",
        "        print(\"Available operations:\")\n",
        "        for symbol in operations:\n",
        "            print(symbol, end=' ')\n",
        "        print()\n",
        "\n",
        "        operation_symbol = input(\"Choose an operation symbol: \")\n",
        "        if operation_symbol not in operations:\n",
        "            print(\"Invalid operation symbol. Please try again.\")\n",
        "            continue\n",
        "\n",
        "        num2 = float(input(\"Enter the second number: \"))\n",
        "\n",
        "        calculation_function = operations[operation_symbol]\n",
        "        answer = calculation_function(num1, num2)\n",
        "\n",
        "        if answer is not None:\n",
        "            print(f\"{num1} {operation_symbol} {num2} = {answer}\")\n",
        "\n",
        "            continue_option = input(\"Do you want to continue with the result as the first number? (yes/no): \").lower()\n",
        "            if continue_option == 'yes':\n",
        "                num1 = answer\n",
        "            else:\n",
        "                should_continue = False\n",
        "                calculator()\n",
        "\n",
        "if __name__ == \"__main__\":\n",
        "    calculator()\n"
      ]
    }
  ],
  "metadata": {
    "colab": {
      "provenance": [],
      "authorship_tag": "ABX9TyNXXog0sNi+9nCF5qG/Syq+",
      "include_colab_link": true
    },
    "kernelspec": {
      "display_name": "Python 3",
      "name": "python3"
    },
    "language_info": {
      "name": "python"
    }
  },
  "nbformat": 4,
  "nbformat_minor": 0
}